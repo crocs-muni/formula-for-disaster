{
 "cells": [
  {
   "cell_type": "markdown",
   "metadata": {},
   "source": [
    "## Constructing EPA points P = (x1, y) and Q = (x2, -y)\n",
    "This notebook is a SageMath notebook (while other notebooks run ordinary Python)\n",
    "for constructing points on an elliptic curve with $x_1 \\ne x_2$ and $y_1 = - y_2$, which\n",
    "are exceptional for some formulas. Note that this notebook is just an example one as\n",
    "it constructs a pair of points for which the discrete logarithm is not known (or chosen)\n",
    "and thus this cannot be used in the EPA attack on static ECDH."
   ]
  },
  {
   "cell_type": "code",
   "execution_count": null,
   "metadata": {},
   "outputs": [],
   "source": [
    "#secp256r1\n",
    "p = 0xffffffff00000001000000000000000000000000ffffffffffffffffffffffff\n",
    "K = GF(p)\n",
    "R.<x> = K[]\n",
    "a = K(0xffffffff00000001000000000000000000000000fffffffffffffffffffffffc)\n",
    "b = K(0x5ac635d8aa3a93e7b3ebbd55769886bc651d06b0cc53b0f63bce3c3e27d2604b)\n",
    "E = EllipticCurve(K, (a, b))\n",
    "G = E(0x6b17d1f2e12c4247f8bce6e563a440f277037d812deb33a0f4a13945d898c296, 0x4fe342e2fe1a7f9b8ee7eb4a7c0f9e162bce33576b315ececbb6406837bf51f5)\n",
    "E.set_order(0xffffffff00000000ffffffffffffffffbce6faada7179e84f3b9cac2fc632551 * 0x1)"
   ]
  },
  {
   "cell_type": "code",
   "execution_count": null,
   "metadata": {},
   "outputs": [],
   "source": [
    "#secp224r1\n",
    "p = 0xffffffffffffffffffffffffffffffff000000000000000000000001\n",
    "K = GF(p)\n",
    "R.<x> = K[]\n",
    "a = K(0xfffffffffffffffffffffffffffffffefffffffffffffffffffffffe)\n",
    "b = K(0xb4050a850c04b3abf54132565044b0b7d7bfd8ba270b39432355ffb4)\n",
    "E = EllipticCurve(K, (a, b))\n",
    "G = E(0xb70e0cbd6bb4bf7f321390b94a03c1d356c21122343280d6115c1d21, 0xbd376388b5f723fb4c22dfe6cd4375a05a07476444d5819985007e34)\n",
    "E.set_order(0xffffffffffffffffffffffffffff16a2e0b8f03e13dd29455c5c2a3d * 0x1)"
   ]
  },
  {
   "cell_type": "code",
   "execution_count": null,
   "metadata": {},
   "outputs": [],
   "source": [
    "def find_other(one, E):\n",
    "    yp = -one[1]\n",
    "    poly = x^3 + E.a4() * x + E.a6() - yp^2\n",
    "    for root in poly.roots(multiplicities=False):\n",
    "        if root != one[0]:\n",
    "            return E(root, yp)\n",
    "    return None\n",
    "\n",
    "def find_pair(E):\n",
    "    while True:\n",
    "        one = E.random_point()\n",
    "        if other := find_other(one, E):\n",
    "            return one, other\n"
   ]
  },
  {
   "cell_type": "code",
   "execution_count": null,
   "metadata": {},
   "outputs": [],
   "source": [
    "find_pair(E)"
   ]
  }
 ],
 "metadata": {
  "kernelspec": {
   "display_name": "SageMath 9.3",
   "language": "sage",
   "name": "sagemath"
  },
  "language_info": {
   "codemirror_mode": {
    "name": "ipython",
    "version": 3
   },
   "file_extension": ".py",
   "mimetype": "text/x-python",
   "name": "python",
   "nbconvert_exporter": "python",
   "pygments_lexer": "ipython3",
   "version": "3.9.6"
  }
 },
 "nbformat": 4,
 "nbformat_minor": 4
}
