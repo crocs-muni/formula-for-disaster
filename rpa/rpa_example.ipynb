{
 "cells": [
  {
   "cell_type": "markdown",
   "id": "3cc4f537",
   "metadata": {},
   "source": [
    "## Example of a Refined Power Analysis attack on a double-and-add algorithm"
   ]
  },
  {
   "cell_type": "code",
   "execution_count": null,
   "id": "b7e1370b",
   "metadata": {},
   "outputs": [],
   "source": [
    "from pyecsca.ec.params import get_params\n",
    "from pyecsca.ec.model import ShortWeierstrassModel\n",
    "from pyecsca.ec.mult import LTRMultiplier\n",
    "from pyecsca.ec.context import DefaultContext, local\n",
    "from pyecsca.ec.point import Point\n",
    "from pyecsca.ec.mod import Mod"
   ]
  },
  {
   "cell_type": "code",
   "execution_count": null,
   "id": "91433cc8",
   "metadata": {},
   "outputs": [],
   "source": [
    "# Setup the secp256r1 curve and some complete formulas and a double-and-add left-to-right multiplier\n",
    "params = get_params(\"secg\", \"secp256r1\", \"projective\")\n",
    "p = params.curve.prime\n",
    "g = params.generator.to_affine()\n",
    "coords = params.curve.coordinate_model\n",
    "add_formula = coords.formulas[\"add-2016-rcb\"]\n",
    "dbl_formula = coords.formulas[\"dbl-2016-rcb\"]\n",
    "neg_formula = coords.formulas[\"neg\"]\n",
    "mult = LTRMultiplier(add=add_formula, dbl=dbl_formula, complete=True)"
   ]
  },
  {
   "cell_type": "code",
   "execution_count": null,
   "id": "c80b7a59",
   "metadata": {},
   "outputs": [],
   "source": [
    "# Pick a \"random\" scalar and compute the public key\n",
    "scalar = 123456789123456789123456789123456789123456789123456789 % params.order\n",
    "pubkey = params.curve.affine_multiply(params.generator.to_affine(), scalar)"
   ]
  },
  {
   "cell_type": "code",
   "execution_count": null,
   "id": "5e64f52e",
   "metadata": {},
   "outputs": [],
   "source": [
    "# A point with a zero-coordinate (of large order)\n",
    "rpa_p0 = Point(coords, X=Mod(0, p),\n",
    "                       Y=Mod(69528327468847610065686496900697922508397251637412376320436699849860351814667, p),\n",
    "                       Z=Mod(1, p))\n",
    "\n",
    "# Multiply the RPA point above with the inverse of `c` to obtain a point which when multiplied by `c` leads\n",
    "# to the RPA point.\n",
    "def rpa_c(c) -> Point:\n",
    "    \"\"\"Compute [c^-1]P_O.\"\"\"\n",
    "    return params.curve.affine_multiply(rpa_p0.to_affine(),\n",
    "                                        int(Mod(c, params.order).inverse())).to_model(coords, params.curve)\n",
    "\n",
    "def query(pt: Point) -> bool:\n",
    "    \"\"\"Query the implementation and observe the RPA side-channel,\n",
    "       i.e. whether a zero occured in some output of a formula.\"\"\"\n",
    "    with local(DefaultContext()) as ctx:\n",
    "        mult.init(params, pt)\n",
    "        mult.multiply(scalar)\n",
    "    smult, subtree = ctx.actions.get_by_index([0])\n",
    "    for formula_action in subtree:\n",
    "        if formula_action.output_points[0].X == Mod(0, p):\n",
    "            return True\n",
    "    return False\n",
    "\n",
    "def try_guess(guess) -> bool:\n",
    "    \"\"\"Test if we have the right private key.\"\"\"\n",
    "    return params.curve.affine_multiply(g, guess) == pubkey"
   ]
  },
  {
   "cell_type": "code",
   "execution_count": null,
   "id": "4595b2c1",
   "metadata": {
    "scrolled": false
   },
   "outputs": [],
   "source": [
    "# The attack itself, recovered scalar is in the `recovered` variable\n",
    "recovered = 1\n",
    "while True:\n",
    "    \"\"\"RPA attack for left-to-right double-and-add always\"\"\"\n",
    "    p1guess = rpa_c(recovered + 1)\n",
    "    if query(p1guess):\n",
    "        recovered = (recovered + 1)\n",
    "    print(bin(recovered))\n",
    "    if try_guess(recovered):\n",
    "        break\n",
    "    recovered = recovered * 2\n",
    "print(recovered == scalar)"
   ]
  }
 ],
 "metadata": {
  "kernelspec": {
   "display_name": "Python 3",
   "language": "python",
   "name": "python3"
  },
  "language_info": {
   "codemirror_mode": {
    "name": "ipython",
    "version": 3
   },
   "file_extension": ".py",
   "mimetype": "text/x-python",
   "name": "python",
   "nbconvert_exporter": "python",
   "pygments_lexer": "ipython3",
   "version": "3.9.6"
  }
 },
 "nbformat": 4,
 "nbformat_minor": 5
}
