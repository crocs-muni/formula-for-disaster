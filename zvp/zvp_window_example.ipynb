{
 "cells": [
  {
   "cell_type": "markdown",
   "id": "e5acdbe0",
   "metadata": {},
   "source": [
    "## Example of a ZVP attack on a windowed scalar multiplication algorithm"
   ]
  },
  {
   "cell_type": "code",
   "execution_count": null,
   "id": "ae58fb50",
   "metadata": {},
   "outputs": [],
   "source": [
    "from pyecsca.ec.params import get_params\n",
    "from pyecsca.ec.model import ShortWeierstrassModel\n",
    "from pyecsca.ec.mult import WindowNAFMultiplier\n",
    "from pyecsca.ec.context import DefaultContext, local\n",
    "from pyecsca.ec.point import Point\n",
    "from pyecsca.ec.mod import Mod\n",
    "from pyecsca.ec.naf import wnaf\n",
    "from pyecsca.sca.re.rpa import MultipleContext\n",
    "from typing import Tuple, List"
   ]
  },
  {
   "cell_type": "code",
   "execution_count": null,
   "id": "6d866f16",
   "metadata": {},
   "outputs": [],
   "source": [
    "# Setup the secp224r1 curve and some complete formulas and a wNAF multiplier on it with width = 5\n",
    "params = get_params(\"secg\", \"secp224r1\", \"projective\")\n",
    "p = params.curve.prime\n",
    "coords = params.curve.coordinate_model\n",
    "add_formula = coords.formulas[\"add-2016-rcb\"]\n",
    "dbl_formula = coords.formulas[\"dbl-2016-rcb\"]\n",
    "neg_formula = coords.formulas[\"neg\"]\n",
    "mult = WindowNAFMultiplier(add=add_formula, dbl=dbl_formula, neg=neg_formula, width=5, precompute_negation=True)"
   ]
  },
  {
   "cell_type": "code",
   "execution_count": null,
   "id": "bf6d407e",
   "metadata": {},
   "outputs": [],
   "source": [
    "# Pick a \"random\" scalar and compute the public key\n",
    "scalar = 111111111111111111111111111111111111111111111111111111111111111111111111111111111111111111111111111111111111111111111111111111111111111111111 % params.order\n",
    "pubkey = params.curve.affine_multiply(params.generator.to_affine(), scalar)"
   ]
  },
  {
   "cell_type": "code",
   "execution_count": null,
   "id": "0743be32",
   "metadata": {},
   "outputs": [],
   "source": [
    "# A point which causes a zero to appear somewhere in the addition using the `add-2016-rcb` formula\n",
    "# generated using `gen_zvp.py`\n",
    "zvp_p0 = Point(coords, X=Mod(22772729384979080027796732071873389060239823427548812434098940698588, p),\n",
    "                       Y=Mod(4187217282171559766870283015146241613318092832477495709411125600293, p),\n",
    "                       Z=Mod(1, p))\n",
    "# Multiply the ZVP point above with the inverse of `c` to obtain a point which when multiplied by `c` leads\n",
    "# to the ZVP point.\n",
    "def zvp_c(c):\n",
    "    return params.curve.affine_multiply(zvp_p0.to_affine(), int(Mod(c, params.order).inverse())).to_model(coords, params.curve)\n",
    "\n",
    "def query(pt: Point) -> Tuple[int, List[int]]:\n",
    "    \"\"\"Query the implementation and observe the ZVP side-channel,\n",
    "       i.e. at which iterations a zero in the intermediate value appeared.\n",
    "       Returns the total number of formula applications and indexes\n",
    "       where a zero in the intermediate value appeared.\"\"\"\n",
    "    with local(DefaultContext()) as ctx:\n",
    "        mult.init(params, pt)\n",
    "        mult.multiply(scalar)\n",
    "    smult, subtree = ctx.actions.get_by_index([1])\n",
    "    iterations = []\n",
    "    for i, formula_action in enumerate(subtree):\n",
    "        for intermediate in formula_action.intermediates.values():\n",
    "            values = [j.value for j in intermediate]\n",
    "            if 0 in values:\n",
    "                iterations.append(i)\n",
    "                break\n",
    "    return len(subtree), iterations\n",
    "\n",
    "def try_guess(guess) -> bool:\n",
    "    \"\"\"Test if we have the right private key.\"\"\"\n",
    "    return params.curve.affine_multiply(g, guess) == pubkey"
   ]
  },
  {
   "cell_type": "code",
   "execution_count": null,
   "id": "81b537ee",
   "metadata": {
    "scrolled": false
   },
   "outputs": [],
   "source": [
    "# The attack itself, the recovered wnaf is at the bottom in `full_wnaf` after some reconstruction\n",
    "# from the simulated side-channel observations.\n",
    "wnaf_multiples = [1, 3, 5, 7, 9, 11, 13, 15, -1, -3, -5, -7, -9, -11, -13, -15]\n",
    "all_iters = {}\n",
    "for multiple in wnaf_multiples:\n",
    "    rpa_point = zvp_c(multiple)\n",
    "    num_iters, iters = query(rpa_point)\n",
    "    all_iters[multiple] = (iters)\n",
    "    print(multiple, num_iters, iters)\n",
    "full = [0 for _ in range(num_iters)]\n",
    "for multiple, iters in all_iters.items():\n",
    "    for i in iters:\n",
    "        full[i] = multiple\n",
    "full_wnaf = [e for i, e in enumerate(full) if (not full[i - 1] != 0) or i in (0, 1)]\n",
    "full_wnaf[0] = 1\n",
    "print(full_wnaf == wnaf(scalar, 5))"
   ]
  }
 ],
 "metadata": {
  "kernelspec": {
   "display_name": "Python 3",
   "language": "python",
   "name": "python3"
  },
  "language_info": {
   "codemirror_mode": {
    "name": "ipython",
    "version": 3
   },
   "file_extension": ".py",
   "mimetype": "text/x-python",
   "name": "python",
   "nbconvert_exporter": "python",
   "pygments_lexer": "ipython3",
   "version": "3.9.6"
  }
 },
 "nbformat": 4,
 "nbformat_minor": 5
}
