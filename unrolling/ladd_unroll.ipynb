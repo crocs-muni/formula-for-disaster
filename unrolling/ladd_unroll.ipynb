{
 "cells": [
  {
   "cell_type": "markdown",
   "id": "5a22bdb5",
   "metadata": {},
   "source": [
    "## Ladder and DifferentialAddition formula unrolling"
   ]
  },
  {
   "cell_type": "code",
   "execution_count": null,
   "id": "02179be1",
   "metadata": {},
   "outputs": [],
   "source": [
    "from pyecsca.ec.point import Point, InfinityPoint\n",
    "from pyecsca.ec.mod import Mod, SymbolicMod\n",
    "from pyecsca.ec.model import ShortWeierstrassModel, EdwardsModel, MontgomeryModel\n",
    "from pyecsca.ec.coordinates import AffineCoordinateModel\n",
    "from pyecsca.ec.context import local, DefaultContext\n",
    "from pyecsca.ec.formula import LadderFormula, DifferentialAdditionFormula\n",
    "from pyecsca.misc.cfg import getconfig\n",
    "from sympy import symbols, Mod as SympyMod\n",
    "import warnings"
   ]
  },
  {
   "cell_type": "code",
   "execution_count": null,
   "id": "d43b83f0",
   "metadata": {},
   "outputs": [],
   "source": [
    "def remove_mod(expression):\n",
    "    if isinstance(expression, SympyMod):\n",
    "        return remove_mod(expression.args[0])\n",
    "    if not expression.args:\n",
    "        return expression\n",
    "    args = []\n",
    "    for arg in expression.args:\n",
    "        if isinstance(arg, SympyMod):\n",
    "            arg = remove_mod(arg.args[0])\n",
    "        else:\n",
    "            arg = remove_mod(arg)\n",
    "        args.append(arg)\n",
    "    return expression.func(*args)"
   ]
  },
  {
   "cell_type": "markdown",
   "id": "2a4bc446",
   "metadata": {},
   "source": [
    "## Short Weierstrass"
   ]
  },
  {
   "cell_type": "code",
   "execution_count": null,
   "id": "a0fc4823",
   "metadata": {},
   "outputs": [],
   "source": [
    "model = ShortWeierstrassModel()\n",
    "coords = model.coordinates[\"xz\"]\n",
    "acoords = AffineCoordinateModel(model)\n",
    "xd, zd, xp, zp, xq, zq = symbols(\"X1 Z1 X2 Z2 X3 Z3\")\n",
    "a, b = symbols(\"a b\")\n",
    "p = 53  # This number is unused, but pyecsca needs some prime to be the modulus even for symbolic exec\n",
    "getconfig().ec.unsatisfied_formula_assumption_action = \"warning\""
   ]
  },
  {
   "cell_type": "code",
   "execution_count": null,
   "id": "57f354ce",
   "metadata": {},
   "outputs": [],
   "source": [
    "PmQ = Point(coords, X=SymbolicMod(xd, p), Z=SymbolicMod(zd, p))\n",
    "P = Point(coords, X=SymbolicMod(xp, p), Z=SymbolicMod(zp, p))\n",
    "Q = Point(coords, X=SymbolicMod(xq, p), Z=SymbolicMod(zq, p))"
   ]
  },
  {
   "cell_type": "code",
   "execution_count": null,
   "id": "71e233bb",
   "metadata": {
    "scrolled": false
   },
   "outputs": [],
   "source": [
    "for name, formula in coords.formulas.items():\n",
    "    if not isinstance(formula, (LadderFormula, DifferentialAdditionFormula)):\n",
    "        continue\n",
    "    print(f\"--- {name} ---\")\n",
    "    with warnings.catch_warnings(record=True) as w:\n",
    "        with local(DefaultContext()) as ctx:\n",
    "            res = formula(p, PmQ, P, Q, a=SymbolicMod(a, p), b=SymbolicMod(b, p))[0]\n",
    "        action, _ = ctx.actions.get_by_index([0])\n",
    "        for name, values in action.intermediates.items():\n",
    "            for value in values:\n",
    "                if name in formula.outputs:  # Remove this test if you want the output of all intermediates.\n",
    "                    print(f\"{name} =\", remove_mod(value.value.x))\n",
    "    if w:\n",
    "        print(w[0].message)\n",
    "    print()"
   ]
  },
  {
   "cell_type": "markdown",
   "id": "cb973115",
   "metadata": {},
   "source": [
    "## Edwards"
   ]
  },
  {
   "cell_type": "code",
   "execution_count": null,
   "id": "7fe7f1b5",
   "metadata": {},
   "outputs": [],
   "source": [
    "model = EdwardsModel()\n",
    "coords = model.coordinates[\"yz\"]\n",
    "acoords = AffineCoordinateModel(model)\n",
    "yd, zd, yp, zp, yq, zq = symbols(\"Y1 Z1 Y2 Z2 Y3 Z3\")\n",
    "c, r, d = symbols(\"c r d\")\n",
    "p = 53  # This number is unused, but pyecsca needs some prime to be the modulus even for symbolic exec\n",
    "getconfig().ec.unsatisfied_formula_assumption_action = \"warning\""
   ]
  },
  {
   "cell_type": "code",
   "execution_count": null,
   "id": "dcab4d20",
   "metadata": {},
   "outputs": [],
   "source": [
    "PmQ = Point(coords, Y=SymbolicMod(yd, p), Z=SymbolicMod(zd, p))\n",
    "P = Point(coords, Y=SymbolicMod(yp, p), Z=SymbolicMod(zp, p))\n",
    "Q = Point(coords, Y=SymbolicMod(yq, p), Z=SymbolicMod(zq, p))"
   ]
  },
  {
   "cell_type": "code",
   "execution_count": null,
   "id": "ddf78766",
   "metadata": {
    "scrolled": false
   },
   "outputs": [],
   "source": [
    "for name, formula in coords.formulas.items():\n",
    "    if not isinstance(formula, (LadderFormula)):\n",
    "        continue\n",
    "    print(f\"--- {name} ---\")\n",
    "    with warnings.catch_warnings(record=True) as w:\n",
    "        with local(DefaultContext()) as ctx:\n",
    "            res = formula(p, PmQ, P, Q, c=SymbolicMod(c, p), r=SymbolicMod(r, p), d=SymbolicMod(d, p))[0]\n",
    "        action, _ = ctx.actions.get_by_index([0])\n",
    "        for name, values in action.intermediates.items():\n",
    "            for value in values:\n",
    "                if name in formula.outputs:  # Remove this test if you want the output of all intermediates.\n",
    "                    print(f\"{name} =\", remove_mod(value.value.x))\n",
    "    if w:\n",
    "        print(w[0].message)\n",
    "    print()"
   ]
  },
  {
   "cell_type": "markdown",
   "id": "52b06671",
   "metadata": {},
   "source": [
    "## Montgomery"
   ]
  },
  {
   "cell_type": "code",
   "execution_count": null,
   "id": "ba114476",
   "metadata": {},
   "outputs": [],
   "source": [
    "model = MontgomeryModel()\n",
    "coords = model.coordinates[\"xz\"]\n",
    "acoords = AffineCoordinateModel(model)\n",
    "xd, zd, xp, zp, xq, zq = symbols(\"X1 Z1 X2 Z2 X3 Z3\")\n",
    "a, b = symbols(\"a b\")\n",
    "p = 53  # This number is unused, but pyecsca needs some prime to be the modulus even for symbolic exec\n",
    "getconfig().ec.unsatisfied_formula_assumption_action = \"warning\""
   ]
  },
  {
   "cell_type": "code",
   "execution_count": null,
   "id": "b14e956e",
   "metadata": {},
   "outputs": [],
   "source": [
    "PmQ = Point(coords, X=SymbolicMod(xd, p), Z=SymbolicMod(zd, p))\n",
    "P = Point(coords, X=SymbolicMod(xp, p), Z=SymbolicMod(zp, p))\n",
    "Q = Point(coords, X=SymbolicMod(xq, p), Z=SymbolicMod(zq, p))"
   ]
  },
  {
   "cell_type": "code",
   "execution_count": null,
   "id": "9dc0c6a2",
   "metadata": {},
   "outputs": [],
   "source": [
    "for name, formula in coords.formulas.items():\n",
    "    if not isinstance(formula, (LadderFormula, DifferentialAdditionFormula)):\n",
    "        continue\n",
    "    print(f\"--- {name} ---\")\n",
    "    with warnings.catch_warnings(record=True) as w:\n",
    "        with local(DefaultContext()) as ctx:\n",
    "            res = formula(p, PmQ, P, Q, a=SymbolicMod(a, p), b=SymbolicMod(b, p))[0]\n",
    "        action, _ = ctx.actions.get_by_index([0])\n",
    "        for name, values in action.intermediates.items():\n",
    "            for value in values:\n",
    "                if name in formula.outputs:  # Remove this test if you want the output of all intermediates.\n",
    "                    print(f\"{name} =\", remove_mod(value.value.x))\n",
    "    if w:\n",
    "        print(w[0].message)\n",
    "    print()"
   ]
  },
  {
   "cell_type": "code",
   "execution_count": null,
   "id": "79b470ba",
   "metadata": {},
   "outputs": [],
   "source": []
  }
 ],
 "metadata": {
  "kernelspec": {
   "display_name": "Python 3",
   "language": "python",
   "name": "python3"
  },
  "language_info": {
   "codemirror_mode": {
    "name": "ipython",
    "version": 3
   },
   "file_extension": ".py",
   "mimetype": "text/x-python",
   "name": "python",
   "nbconvert_exporter": "python",
   "pygments_lexer": "ipython3",
   "version": "3.9.6"
  }
 },
 "nbformat": 4,
 "nbformat_minor": 5
}
