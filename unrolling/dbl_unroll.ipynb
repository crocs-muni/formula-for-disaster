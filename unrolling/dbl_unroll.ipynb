{
 "cells": [
  {
   "cell_type": "markdown",
   "id": "228fb8f5",
   "metadata": {},
   "source": [
    "## Doubling formula unrolling"
   ]
  },
  {
   "cell_type": "code",
   "execution_count": null,
   "id": "02179be1",
   "metadata": {},
   "outputs": [],
   "source": [
    "from pyecsca.ec.point import Point, InfinityPoint\n",
    "from pyecsca.ec.mod import Mod, SymbolicMod\n",
    "from pyecsca.ec.model import ShortWeierstrassModel, EdwardsModel, MontgomeryModel, TwistedEdwardsModel\n",
    "from pyecsca.ec.coordinates import AffineCoordinateModel\n",
    "from pyecsca.ec.context import local, DefaultContext\n",
    "from pyecsca.ec.formula import LadderFormula, DifferentialAdditionFormula, DoublingFormula\n",
    "from pyecsca.misc.cfg import getconfig\n",
    "from sympy import symbols, Mod as SympyMod, Eq\n",
    "import warnings"
   ]
  },
  {
   "cell_type": "code",
   "execution_count": null,
   "id": "d43b83f0",
   "metadata": {},
   "outputs": [],
   "source": [
    "def remove_mod(expression):\n",
    "    if isinstance(expression, SympyMod):\n",
    "        return remove_mod(expression.args[0])\n",
    "    if not expression.args:\n",
    "        return expression\n",
    "    args = []\n",
    "    for arg in expression.args:\n",
    "        if isinstance(arg, SympyMod):\n",
    "            arg = remove_mod(arg.args[0])\n",
    "        else:\n",
    "            arg = remove_mod(arg)\n",
    "        args.append(arg)\n",
    "    return expression.func(*args)"
   ]
  },
  {
   "cell_type": "code",
   "execution_count": null,
   "id": "1ebe9767",
   "metadata": {},
   "outputs": [],
   "source": [
    "# Whether to display formulas in LaTeX or as raw text\n",
    "#display_mode = \"latex\"\n",
    "display_mode = \"raw\""
   ]
  },
  {
   "cell_type": "markdown",
   "id": "2a4bc446",
   "metadata": {},
   "source": [
    "## Short Weierstrass"
   ]
  },
  {
   "cell_type": "code",
   "execution_count": null,
   "id": "a0fc4823",
   "metadata": {
    "scrolled": false
   },
   "outputs": [],
   "source": [
    "model = ShortWeierstrassModel()\n",
    "acoords = AffineCoordinateModel(model)\n",
    "a, b = symbols(\"a b\")\n",
    "p = 53  # This number is unused, but pyecsca needs some prime to be the modulus even for symbolic exec\n",
    "getconfig().ec.unsatisfied_formula_assumption_action = \"warning\"\n",
    "for coord_name, coords in model.coordinates.items():\n",
    "    svars = {var:SymbolicMod(symbols(var), p) for var in coords.variables}\n",
    "    pt = Point(coords, **svars)\n",
    "    params = {\"a\": SymbolicMod(a, p), \"b\": SymbolicMod(b, p)}\n",
    "    for param in coords.parameters:\n",
    "        params[param] = SymbolicMod(symbols(param), p)\n",
    "    print(f\"###### {coord_name} ######\")\n",
    "    for name, formula in coords.formulas.items():\n",
    "        if not isinstance(formula, DoublingFormula):\n",
    "            continue\n",
    "        print(f\"--- {name} ---\")\n",
    "        with warnings.catch_warnings(record=True) as w:\n",
    "            try:\n",
    "                with local(DefaultContext()) as ctx:\n",
    "                    res = formula(p, pt, **params)[0]\n",
    "                action, _ = ctx.actions.get_by_index([0])\n",
    "                for name, values in action.intermediates.items():\n",
    "                    # The `values` here contains all the values assigned to the variable during the execution of the formula.\n",
    "                    # Output all of the `values` to get all intermediate values.\n",
    "                    value = values[-1]\n",
    "                    if name in formula.outputs:  # Remove this test if you want the output of all intermediates.\n",
    "                        if display_mode == \"latex\":\n",
    "                            display(Eq(symbols(name), remove_mod(value.value.x)))\n",
    "                        elif display_mode == \"raw\":\n",
    "                            print(f\"{name} =\", remove_mod(value.value.x))\n",
    "            except Exception as e:\n",
    "                print(e)\n",
    "        if w:\n",
    "            print(w[0].message)\n",
    "        print()\n"
   ]
  },
  {
   "cell_type": "markdown",
   "id": "cb973115",
   "metadata": {},
   "source": [
    "## Edwards"
   ]
  },
  {
   "cell_type": "code",
   "execution_count": null,
   "id": "7fe7f1b5",
   "metadata": {
    "scrolled": false
   },
   "outputs": [],
   "source": [
    "model = EdwardsModel()\n",
    "acoords = AffineCoordinateModel(model)\n",
    "c, d = symbols(\"c d\")\n",
    "p = 53  # This number is unused, but pyecsca needs some prime to be the modulus even for symbolic exec\n",
    "getconfig().ec.unsatisfied_formula_assumption_action = \"warning\"\n",
    "for coord_name, coords in model.coordinates.items():\n",
    "    svars = {var:SymbolicMod(symbols(var), p) for var in coords.variables}\n",
    "    pt = Point(coords, **svars)\n",
    "    params = {\"c\": SymbolicMod(c, p), \"d\": SymbolicMod(d, p)}\n",
    "    for param in coords.parameters:\n",
    "        params[param] = SymbolicMod(symbols(param), p)\n",
    "    print(f\"###### {coord_name} ######\")\n",
    "    for name, formula in coords.formulas.items():\n",
    "        if not isinstance(formula, DoublingFormula):\n",
    "            continue\n",
    "        print(f\"--- {name} ---\")\n",
    "        with warnings.catch_warnings(record=True) as w:\n",
    "            try:\n",
    "                with local(DefaultContext()) as ctx:\n",
    "                    res = formula(p, pt, **params)[0]\n",
    "                action, _ = ctx.actions.get_by_index([0])\n",
    "                for name, values in action.intermediates.items():\n",
    "                    # The `values` here contains all the values assigned to the variable during the execution of the formula.\n",
    "                    # Output all of the `values` to get all intermediate values.\n",
    "                    value = values[-1]\n",
    "                    if name in formula.outputs:  # Remove this test if you want the output of all intermediates.\n",
    "                        if display_mode == \"latex\":\n",
    "                            display(Eq(symbols(name), remove_mod(value.value.x)))\n",
    "                        elif display_mode == \"raw\":\n",
    "                            print(f\"{name} =\", remove_mod(value.value.x))\n",
    "            except Exception as e:\n",
    "                print(e)\n",
    "        if w:\n",
    "            print(w[0].message)\n",
    "        print()"
   ]
  },
  {
   "cell_type": "markdown",
   "id": "52b06671",
   "metadata": {},
   "source": [
    "## Montgomery"
   ]
  },
  {
   "cell_type": "code",
   "execution_count": null,
   "id": "ba114476",
   "metadata": {},
   "outputs": [],
   "source": [
    "model = MontgomeryModel()\n",
    "acoords = AffineCoordinateModel(model)\n",
    "a, b = symbols(\"a b\")\n",
    "p = 53  # This number is unused, but pyecsca needs some prime to be the modulus even for symbolic exec\n",
    "getconfig().ec.unsatisfied_formula_assumption_action = \"warning\"\n",
    "for coord_name, coords in model.coordinates.items():\n",
    "    svars = {var:SymbolicMod(symbols(var), p) for var in coords.variables}\n",
    "    pt = Point(coords, **svars)\n",
    "    params = {\"a\": SymbolicMod(a, p), \"b\": SymbolicMod(b, p)}\n",
    "    for param in coords.parameters:\n",
    "        params[param] = SymbolicMod(symbols(param), p)\n",
    "    print(f\"###### {coord_name} ######\")\n",
    "    for name, formula in coords.formulas.items():\n",
    "        if not isinstance(formula, DoublingFormula):\n",
    "            continue\n",
    "        print(f\"--- {name} ---\")\n",
    "        with warnings.catch_warnings(record=True) as w:\n",
    "            try:\n",
    "                with local(DefaultContext()) as ctx:\n",
    "                    res = formula(p, pt, **params)[0]\n",
    "                action, _ = ctx.actions.get_by_index([0])\n",
    "                for name, values in action.intermediates.items():\n",
    "                    # The `values` here contains all the values assigned to the variable during the execution of the formula.\n",
    "                    # Output all of the `values` to get all intermediate values.\n",
    "                    value = values[-1]\n",
    "                    if name in formula.outputs:  # Remove this test if you want the output of all intermediates.\n",
    "                        if display_mode == \"latex\":\n",
    "                            display(Eq(symbols(name), remove_mod(value.value.x)))\n",
    "                        elif display_mode == \"raw\":\n",
    "                            print(f\"{name} =\", remove_mod(value.value.x))\n",
    "            except Exception as e:\n",
    "                print(e)\n",
    "        if w:\n",
    "            print(w[0].message)\n",
    "        print()"
   ]
  },
  {
   "cell_type": "markdown",
   "id": "13380c65",
   "metadata": {},
   "source": [
    "## Twisted Edwards"
   ]
  },
  {
   "cell_type": "code",
   "execution_count": null,
   "id": "fd7a230c",
   "metadata": {},
   "outputs": [],
   "source": [
    "model = TwistedEdwardsModel()\n",
    "acoords = AffineCoordinateModel(model)\n",
    "a, d = symbols(\"a d\")\n",
    "p = 53  # This number is unused, but pyecsca needs some prime to be the modulus even for symbolic exec\n",
    "getconfig().ec.unsatisfied_formula_assumption_action = \"warning\"\n",
    "for coord_name, coords in model.coordinates.items():\n",
    "    svars = {var:SymbolicMod(symbols(var), p) for var in coords.variables}\n",
    "    pt = Point(coords, **svars)\n",
    "    params = {\"a\": SymbolicMod(a, p), \"d\": SymbolicMod(d, p)}\n",
    "    for param in coords.parameters:\n",
    "        params[param] = SymbolicMod(symbols(param), p)\n",
    "    print(f\"###### {coord_name} ######\")\n",
    "    for name, formula in coords.formulas.items():\n",
    "        if not isinstance(formula, DoublingFormula):\n",
    "            continue\n",
    "        print(f\"--- {name} ---\")\n",
    "        with warnings.catch_warnings(record=True) as w:\n",
    "            try:\n",
    "                with local(DefaultContext()) as ctx:\n",
    "                    res = formula(p, pt, **params)[0]\n",
    "                action, _ = ctx.actions.get_by_index([0])\n",
    "                for name, values in action.intermediates.items():\n",
    "                    # The `values` here contains all the values assigned to the variable during the execution of the formula.\n",
    "                    # Output all of the `values` to get all intermediate values.\n",
    "                    value = values[-1]\n",
    "                    if name in formula.outputs:  # Remove this test if you want the output of all intermediates.\n",
    "                        if display_mode == \"latex\":\n",
    "                            display(Eq(symbols(name), remove_mod(value.value.x)))\n",
    "                        elif display_mode == \"raw\":\n",
    "                            print(f\"{name} =\", remove_mod(value.value.x))\n",
    "            except Exception as e:\n",
    "                print(e)\n",
    "        if w:\n",
    "            print(w[0].message)\n",
    "        print()"
   ]
  }
 ],
 "metadata": {
  "kernelspec": {
   "display_name": "Python 3",
   "language": "python",
   "name": "python3"
  },
  "language_info": {
   "codemirror_mode": {
    "name": "ipython",
    "version": 3
   },
   "file_extension": ".py",
   "mimetype": "text/x-python",
   "name": "python",
   "nbconvert_exporter": "python",
   "pygments_lexer": "ipython3",
   "version": "3.9.6"
  }
 },
 "nbformat": 4,
 "nbformat_minor": 5
}
